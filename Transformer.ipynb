{
  "nbformat": 4,
  "nbformat_minor": 0,
  "metadata": {
    "colab": {
      "name": "Transformer.ipynb",
      "provenance": [],
      "collapsed_sections": [],
      "authorship_tag": "ABX9TyM73VSPTD3Ghr6l07rusYuG",
      "include_colab_link": true
    },
    "kernelspec": {
      "name": "python3",
      "display_name": "Python 3"
    },
    "language_info": {
      "name": "python"
    },
    "accelerator": "GPU"
  },
  "cells": [
    {
      "cell_type": "markdown",
      "metadata": {
        "id": "view-in-github",
        "colab_type": "text"
      },
      "source": [
        "<a href=\"https://colab.research.google.com/github/ysj9909/NLP_practice/blob/main/Transformer.ipynb\" target=\"_parent\"><img src=\"https://colab.research.google.com/assets/colab-badge.svg\" alt=\"Open In Colab\"/></a>"
      ]
    },
    {
      "cell_type": "markdown",
      "source": [
        "# Transformer 구현 연습\n",
        "\n",
        " * paper link: https://arxiv.org/pdf/1706.03762.pdf\n",
        " * my review link : https://blog.naver.com/wsz87/222564588159\n",
        " * code referenced by https://github.com/bentrevett/pytorch-seq2seq/blob/master/6%20-%20Attention%20is%20All%20You%20Need.ipynb"
      ],
      "metadata": {
        "id": "KvXmkRxwxq4a"
      }
    },
    {
      "cell_type": "code",
      "execution_count": 1,
      "metadata": {
        "id": "NhL3T96txWty"
      },
      "outputs": [],
      "source": [
        "# 데이터 전처리 spacy library를 이용해서 영어, 독일어 전처리 진행\n",
        "%%capture\n",
        "!python -m spacy download en\n",
        "!python -m spacy download de"
      ]
    },
    {
      "cell_type": "code",
      "source": [
        "import spacy\n",
        "\n",
        "spacy_en = spacy.load(\"en\")   # 영어 토큰화\n",
        "spacy_de = spacy.load(\"de\")   # 독일어 토큰화"
      ],
      "metadata": {
        "id": "woZ6Y4jozUJ0"
      },
      "execution_count": 2,
      "outputs": []
    },
    {
      "cell_type": "code",
      "source": [
        "# 토크나이저 실습\n",
        "text = \"I am a undergraduate student.\"\n",
        "\n",
        "for i, word in enumerate([token.text for token in spacy_en.tokenizer(text)]):\n",
        "  print(f\"{i + 1} 번째 토큰은 {word} 입니다.\")"
      ],
      "metadata": {
        "colab": {
          "base_uri": "https://localhost:8080/"
        },
        "id": "fB7vHIuvzjmC",
        "outputId": "f3ed1bbb-e1d1-4cef-8da5-c6d7ef5e0b74"
      },
      "execution_count": 3,
      "outputs": [
        {
          "output_type": "stream",
          "name": "stdout",
          "text": [
            "1 번째 토큰은 I 입니다.\n",
            "2 번째 토큰은 am 입니다.\n",
            "3 번째 토큰은 a 입니다.\n",
            "4 번째 토큰은 undergraduate 입니다.\n",
            "5 번째 토큰은 student 입니다.\n",
            "6 번째 토큰은 . 입니다.\n"
          ]
        }
      ]
    },
    {
      "cell_type": "code",
      "source": [
        "# 토크나이저 함수 정의\n",
        "def tokenize_en(text):\n",
        "  return [token.text for token in spacy_en.tokenizer(text)]\n",
        "\n",
        "def tokenize_de(text):\n",
        "  return [token.text for token in spacy_de.tokenizer(text)]"
      ],
      "metadata": {
        "id": "yfpNi5-X0aLU"
      },
      "execution_count": 4,
      "outputs": []
    },
    {
      "cell_type": "code",
      "source": [
        "# 독일어, 영어 번역 데이터셋을 불러들인다\n",
        "from torchtext.legacy.datasets import Multi30k\n",
        "# Field를 통해 전처리 명명, 필요한 패드 수를 최소화할 수 있는 배치 이터레이터를 불러온다\n",
        "from torchtext.legacy.data import Field, BucketIterator\n",
        "\n",
        "SRC = Field(tokenize = tokenize_de, \n",
        "            init_token = \"<sos>\",\n",
        "            eos_token = \"<eos>\",\n",
        "            lower = True)\n",
        "\n",
        "TRG = Field(tokenize = tokenize_en,\n",
        "            init_token = \"<sos>\",\n",
        "            eos_token = \"<eos>\",\n",
        "            lower = True)\n",
        "\n",
        "train_dataset, valid_dataset, test_dataset = Multi30k.splits(exts = (\".de\", \".en\"),\n",
        "                                                             fields = (SRC, TRG))"
      ],
      "metadata": {
        "id": "GvhiRTMT1CX8",
        "colab": {
          "base_uri": "https://localhost:8080/"
        },
        "outputId": "f271e761-6563-40df-8f69-9fb0a76b8657"
      },
      "execution_count": 5,
      "outputs": [
        {
          "output_type": "stream",
          "name": "stdout",
          "text": [
            "downloading training.tar.gz\n"
          ]
        },
        {
          "output_type": "stream",
          "name": "stderr",
          "text": [
            "100%|██████████| 1.21M/1.21M [00:02<00:00, 540kB/s]\n"
          ]
        },
        {
          "output_type": "stream",
          "name": "stdout",
          "text": [
            "downloading validation.tar.gz\n"
          ]
        },
        {
          "output_type": "stream",
          "name": "stderr",
          "text": [
            "100%|██████████| 46.3k/46.3k [00:00<00:00, 175kB/s]\n"
          ]
        },
        {
          "output_type": "stream",
          "name": "stdout",
          "text": [
            "downloading mmt_task1_test2016.tar.gz\n"
          ]
        },
        {
          "output_type": "stream",
          "name": "stderr",
          "text": [
            "100%|██████████| 66.2k/66.2k [00:00<00:00, 167kB/s]\n"
          ]
        }
      ]
    },
    {
      "cell_type": "code",
      "source": [
        "# 데이터의 개수 확인\n",
        "print(f\"Number of training examples : {len(train_dataset.examples)}\")\n",
        "print(f\"Number of validation examples : {len(valid_dataset.examples)}\")\n",
        "print(f\"Number of test examples : {len(test_dataset.examples)}\")"
      ],
      "metadata": {
        "colab": {
          "base_uri": "https://localhost:8080/"
        },
        "id": "3IdM7yh12CZf",
        "outputId": "2d6258f3-9ee4-4109-80cd-15842ad47491"
      },
      "execution_count": 6,
      "outputs": [
        {
          "output_type": "stream",
          "name": "stdout",
          "text": [
            "Number of training examples : 29000\n",
            "Number of validation examples : 1014\n",
            "Number of test examples : 1000\n"
          ]
        }
      ]
    },
    {
      "cell_type": "code",
      "source": [
        "# Vocabulary 객체 생성\n",
        "SRC.build_vocab(train_dataset, min_freq = 2)\n",
        "TRG.build_vocab(train_dataset, min_freq = 2)\n",
        "\n",
        "print(f\"length of source Vocabulary : {len(SRC.vocab)}\")\n",
        "print(f\"length of target Vocabulary : {len(TRG.vocab)}\")"
      ],
      "metadata": {
        "colab": {
          "base_uri": "https://localhost:8080/"
        },
        "id": "Ft9-tIKU2Rhw",
        "outputId": "60118c68-11e0-4352-999e-f00310c3c96c"
      },
      "execution_count": 7,
      "outputs": [
        {
          "output_type": "stream",
          "name": "stdout",
          "text": [
            "length of source Vocabulary : 7855\n",
            "length of target Vocabulary : 5893\n"
          ]
        }
      ]
    },
    {
      "cell_type": "code",
      "source": [
        "import torch\n",
        "import torch.nn as nn\n",
        "import numpy as np\n",
        "import random\n",
        "import math\n",
        "import time\n",
        "\n",
        "# device configuration\n",
        "device = torch.device(\"cuda\" if torch.cuda.is_available() else \"cpu\")"
      ],
      "metadata": {
        "id": "dhIOplOM3KgC"
      },
      "execution_count": 8,
      "outputs": []
    },
    {
      "cell_type": "code",
      "source": [
        "# Iterator 생성\n",
        "BATCH_SIZE = 128\n",
        "\n",
        "trainloader, validloader, testloader = BucketIterator.splits(datasets = (train_dataset, valid_dataset, test_dataset),\n",
        "                                                             batch_size = BATCH_SIZE,\n",
        "                                                             device = device)"
      ],
      "metadata": {
        "id": "KfpEOz9T3_V1"
      },
      "execution_count": 9,
      "outputs": []
    },
    {
      "cell_type": "code",
      "source": [
        "# 배치(Batch) 형태 확인\n",
        "for batch in trainloader:\n",
        "  print(batch.src.size())\n",
        "  print(batch.trg.size())\n",
        "\n",
        "  trg_text = batch.trg[:, 2]\n",
        "  for i, token in enumerate(trg_text):\n",
        "    print(f\"인덱스 : {i + 1}, token : {token}\")\n",
        "  break"
      ],
      "metadata": {
        "colab": {
          "base_uri": "https://localhost:8080/"
        },
        "id": "mroBXo804P9y",
        "outputId": "2c7599d9-79b8-4855-ab64-f15b192fc0bd"
      },
      "execution_count": 10,
      "outputs": [
        {
          "output_type": "stream",
          "name": "stdout",
          "text": [
            "torch.Size([24, 128])\n",
            "torch.Size([23, 128])\n",
            "인덱스 : 1, token : 2\n",
            "인덱스 : 2, token : 200\n",
            "인덱스 : 3, token : 12\n",
            "인덱스 : 4, token : 975\n",
            "인덱스 : 5, token : 32\n",
            "인덱스 : 6, token : 6\n",
            "인덱스 : 7, token : 4\n",
            "인덱스 : 8, token : 1735\n",
            "인덱스 : 9, token : 880\n",
            "인덱스 : 10, token : 37\n",
            "인덱스 : 11, token : 2102\n",
            "인덱스 : 12, token : 423\n",
            "인덱스 : 13, token : 20\n",
            "인덱스 : 14, token : 7\n",
            "인덱스 : 15, token : 118\n",
            "인덱스 : 16, token : 3\n",
            "인덱스 : 17, token : 1\n",
            "인덱스 : 18, token : 1\n",
            "인덱스 : 19, token : 1\n",
            "인덱스 : 20, token : 1\n",
            "인덱스 : 21, token : 1\n",
            "인덱스 : 22, token : 1\n",
            "인덱스 : 23, token : 1\n"
          ]
        }
      ]
    },
    {
      "cell_type": "markdown",
      "source": [
        "# 모델 정의"
      ],
      "metadata": {
        "id": "SScwKXQu5CSO"
      }
    },
    {
      "cell_type": "code",
      "source": [
        "class MultiHeadAttention(nn.Module):\n",
        "  def __init__(self, hidden_dim, n_heads, dropout_ratio, device):\n",
        "    super().__init__()\n",
        "    \n",
        "    assert hidden_dim % n_heads == 0\n",
        "\n",
        "    self.hidden_dim = hidden_dim\n",
        "    self.n_heads = n_heads\n",
        "    self.d_k = hidden_dim // n_heads   # 논문의 표기를 따름 -> d_k = d_v = d_q\n",
        "\n",
        "    # 각 프로젝션 함수 정의\n",
        "    self.fc_q = nn.Linear(hidden_dim, hidden_dim)\n",
        "    self.fc_k = nn.Linear(hidden_dim, hidden_dim)\n",
        "    self.fc_v = nn.Linear(hidden_dim, hidden_dim)\n",
        "\n",
        "    self.fc_out = nn.Linear(hidden_dim, hidden_dim)\n",
        "\n",
        "    self.dropout = nn.Dropout(p = dropout_ratio)\n",
        "\n",
        "    self.scale_factor = torch.sqrt(torch.FloatTensor([self.d_k])).to(device)\n",
        "\n",
        "  def forward(self, query, key, value, mask = None):\n",
        "    batch_size = query.size(0)\n",
        "\n",
        "    # query : (batch_size, qurey_len, hidden_dim)\n",
        "    # key : (batch_size, key_len, hiiden_dim)\n",
        "    # value : (batch_size, value_len, hidden_dim)\n",
        "\n",
        "    Q = self.fc_q(query)\n",
        "    K = self.fc_k(key)\n",
        "    V = self.fc_v(value)\n",
        "\n",
        "    Q = Q.view(batch_size, -1, self.n_heads, self.d_k).permute(0, 2, 1, 3)   # (batch_size, n_heads, query_len, d_q)\n",
        "    K = K.view(batch_size, -1, self.n_heads, self.d_k).permute(0, 2, 1, 3)   # (batch_size, n_heads, key_len, d_k)\n",
        "    V = V.view(batch_size, -1, self.n_heads, self.d_k).permute(0, 2, 1, 3)   # (batch_size, n_heads, value_len, d_v)\n",
        "\n",
        "    energy = torch.matmul(Q, K.permute(0, 1, 3, 2)) / self.scale_factor   # (batch_size, n_heads, query_len, key_len)\n",
        "    \n",
        "    if mask is not None:\n",
        "      energy = energy.masked_fill(mask == 0, -1e10)   # 마스크가 0인 지점에 모두 매우 작은 값을 넣어줌으로써 영향력을 0에 수렴하게 해줌\n",
        "    \n",
        "    attention_weights = torch.softmax(energy, dim = -1) \n",
        "\n",
        "    x = torch.matmul(self.dropout(attention_weights), V)\n",
        "\n",
        "    x = x.permute(0, 2, 1, 3).contiguous()   # view함수를 써주기 위해서 x stride를 contiguous하게 해준다.\n",
        "    x = x.view(batch_size, -1, self.hidden_dim)\n",
        "\n",
        "    x = self.fc_out(x)\n",
        "\n",
        "    return x, attention_weights\n",
        "\n"
      ],
      "metadata": {
        "id": "JFM3_Pr54oOP"
      },
      "execution_count": 11,
      "outputs": []
    },
    {
      "cell_type": "code",
      "source": [
        "class PositionwiseFeedForward(nn.Module):\n",
        "  def __init__(self, hidden_dim, pf_dim, dropout_ratio):\n",
        "    super().__init__()\n",
        "\n",
        "    self.fc_1 = nn.Linear(hidden_dim, pf_dim)\n",
        "    self.fc_2 = nn.Linear(pf_dim, hidden_dim)\n",
        "\n",
        "    self.dropout = nn.Dropout(p = dropout_ratio)\n",
        "\n",
        "  def forward(self, x):\n",
        "    # x : (batch_size, seq_len, hidden_dim)\n",
        "    x = torch.relu(self.fc_1(x))   # (batch_size, seq_len, pf_dim)\n",
        "    return self.fc_2(self.dropout(x))   # same dimension with input"
      ],
      "metadata": {
        "id": "_1IXnkhmKRxv"
      },
      "execution_count": 12,
      "outputs": []
    },
    {
      "cell_type": "code",
      "source": [
        "class EncoderLayer(nn.Module):\n",
        "  def __init__(self, hidden_dim, n_heads, pf_dim, dropout_ratio, device):\n",
        "    super().__init__()\n",
        "\n",
        "    self.MultiHeadAttentionlayer = MultiHeadAttention(hidden_dim, n_heads, dropout_ratio, device)\n",
        "    self.PositionwiseFeedForwardlayer = PositionwiseFeedForward(hidden_dim, pf_dim, dropout_ratio)\n",
        "    self.ff_layer_norm = nn.LayerNorm(hidden_dim)\n",
        "    self.att_layer_norm = nn.LayerNorm(hidden_dim)\n",
        "    \n",
        "    self.dropout = nn.Dropout(p = dropout_ratio)\n",
        "\n",
        "  def forward(self, src, src_mask):\n",
        "    '''\n",
        "    src : (batch_size, src_len, hidden_dim)\n",
        "    src_mask : (batch_size, 1, 1, src_len)\n",
        "    '''\n",
        "\n",
        "    # self attention\n",
        "    _src, _ = self.MultiHeadAttentionlayer(src, src, src, src_mask)\n",
        "\n",
        "    # dropout, residual connection and layer norm\n",
        "    src = self.att_layer_norm(self.dropout(_src) + src)\n",
        "\n",
        "    # position-wise feed forwad\n",
        "    _src = self.PositionwiseFeedForwardlayer(src)\n",
        "\n",
        "    # dropout, residual connection and layer norm\n",
        "    src = self.ff_layer_norm(self.dropout(_src) + src)\n",
        "\n",
        "    return src"
      ],
      "metadata": {
        "id": "uRw9QoanWiys"
      },
      "execution_count": 13,
      "outputs": []
    },
    {
      "cell_type": "code",
      "source": [
        "class Encoder(nn.Module):\n",
        "  def __init__(self, vocab_size, hidden_dim, n_layers, n_heads, pf_dim, dropout_ratio, device, max_length = 100):\n",
        "    super().__init__()\n",
        "\n",
        "    self.device = device\n",
        "\n",
        "    self.tok_embedding = nn.Embedding(vocab_size, hidden_dim)\n",
        "    self.pos_embedding = nn.Embedding(max_length, hidden_dim)\n",
        "\n",
        "    self.layers = nn.ModuleList(\n",
        "        [\n",
        "         EncoderLayer(hidden_dim, n_heads, pf_dim, dropout_ratio, device) for _ in range(n_layers)\n",
        "        ]\n",
        "    )\n",
        "\n",
        "    self.dropout = nn.Dropout(p = dropout_ratio)\n",
        "\n",
        "    self.scale = torch.sqrt(torch.FloatTensor([hidden_dim])).to(device)\n",
        "\n",
        "  def forward(self, src, src_mask):\n",
        "    '''\n",
        "    src : (batch_size, seq_len, vocab_size)\n",
        "    src_mask : (batch_size, 1, 1, seq_len)\n",
        "    '''\n",
        "\n",
        "    pos_emb = torch.arange(src.size(1)).unsqueeze(0).repeat(src.size(0), 1).to(self.device)\n",
        "    pos_emb = self.dropout(self.pos_embedding(pos_emb) * self.scale)\n",
        "    tok_emb = self.tok_embedding(src)\n",
        "    src = pos_emb + tok_emb\n",
        "\n",
        "    for layer in self.layers:\n",
        "      src = layer(src, src_mask)\n",
        "    \n",
        "    return src"
      ],
      "metadata": {
        "id": "15l9_PodbWCs"
      },
      "execution_count": 14,
      "outputs": []
    },
    {
      "cell_type": "code",
      "source": [
        "class DecoderLayer(nn.Module):\n",
        "  def __init__(self,hidden_dim, n_heads, pf_dim, dropout_ratio, device):\n",
        "    super().__init__()\n",
        "\n",
        "    self.self_attention = MultiHeadAttention(hidden_dim, n_heads, dropout_ratio, device)\n",
        "    self.self_attn_layer_norm = nn.LayerNorm(hidden_dim)\n",
        "    self.enc_attention = MultiHeadAttention(hidden_dim, n_heads, dropout_ratio, device)\n",
        "    self.enc_attn_layer_norm = nn.LayerNorm(hidden_dim)\n",
        "    self.ff_layer = PositionwiseFeedForward(hidden_dim, pf_dim, dropout_ratio)\n",
        "    self.ff_layer_norm = nn.LayerNorm(hidden_dim)\n",
        "\n",
        "    self.dropout = nn.Dropout(p = dropout_ratio)\n",
        "\n",
        "  def forward(self, trg, enc_src, trg_mask, src_mask):\n",
        "    '''\n",
        "    enc_src : final encoder hidden states, shape of (batch_size, src_len, hidden_dim)\n",
        "    src_mask : mask w.r.t pad token position, shape of (batch_size, 1, 1, src_len)\n",
        "    trg : target sentence, shape of (batch_size, trg_len, hidden_dim)\n",
        "    trg_mask : mask for passing pad token position to decoder and avoiding cheating future token, shape of (batch_size, 1, trg_len, trg_len) \n",
        "    '''\n",
        "    \n",
        "    # self attention\n",
        "    _trg, _ = self.self_attention(trg, trg, trg, trg_mask)\n",
        "    \n",
        "    # dropout, residual connection and layer norm\n",
        "    trg = self.self_attn_layer_norm(trg + self.dropout(_trg))\n",
        "\n",
        "    # encoder attention\n",
        "    _trg, attention_weights = self.enc_attention(trg, enc_src, enc_src, src_mask)   # attention weights : (batch_size, n_heads, trg_len, src_len)\n",
        "\n",
        "    # dropout, residual connection and layer norm\n",
        "    trg = self.enc_attn_layer_norm(trg + self.dropout(_trg))\n",
        "\n",
        "    # position wise feedforward\n",
        "    _trg = self.ff_layer(trg)\n",
        "\n",
        "    # dropout, residual and layer norm\n",
        "    trg = self.ff_layer_norm(trg + self.dropout(_trg))\n",
        "\n",
        "    return trg, attention_weights\n",
        "\n"
      ],
      "metadata": {
        "id": "NbHx23c9gvz1"
      },
      "execution_count": 15,
      "outputs": []
    },
    {
      "cell_type": "code",
      "source": [
        "class Decoder(nn.Module):\n",
        "  def __init__(self, vocab_size, hidden_dim, n_layers, n_heads, pf_dim, dropout_ratio, device, max_length = 100):\n",
        "    super().__init__()\n",
        "\n",
        "    self.device = device\n",
        "\n",
        "    self.tok_embedding = nn.Embedding(vocab_size, hidden_dim)\n",
        "    self.pos_embedding = nn.Embedding(max_length, hidden_dim)\n",
        "\n",
        "    self.layers = nn.ModuleList(\n",
        "        [\n",
        "         DecoderLayer(hidden_dim, n_heads, pf_dim, dropout_ratio, device) for _ in range(n_layers)\n",
        "        ]\n",
        "    )\n",
        "\n",
        "    self.fc_out = nn.Linear(hidden_dim, vocab_size)\n",
        "\n",
        "    self.dropout = nn.Dropout(p = dropout_ratio)\n",
        "\n",
        "    self.scale = torch.sqrt(torch.FloatTensor([hidden_dim])).to(device)\n",
        "\n",
        "  def forward(self, trg, enc_src, trg_mask, src_mask):\n",
        "    '''\n",
        "    enc_src : final encoder hidden states, shape of (batch_size, src_len, hidden_dim)\n",
        "    src_mask : mask w.r.t pad token position, shape of (batch_size, 1, 1, src_len)\n",
        "    trg : target sentence, shape of (batch_size, trg_len)\n",
        "    trg_mask : mask for passing pad token position to decoder and avoiding cheating future token, shape of (batch_size, 1, trg_len, trg_len) \n",
        "    '''\n",
        "    batch_size = trg.size(0)\n",
        "    trg_len = trg.size(1)\n",
        "    \n",
        "    # Embedding\n",
        "    pos = torch.arange(trg_len).unsqueeze(0).repeat(batch_size, 1).to(self.device)\n",
        "    trg = self.dropout(self.tok_embedding(trg) * self.scale + self.pos_embedding(pos))\n",
        "\n",
        "    for layer in self.layers:\n",
        "      trg, attention_weights = layer(trg, enc_src, trg_mask, src_mask)\n",
        "    \n",
        "    output = self.fc_out(trg)   # (batch_size, trg_len, vocab_size)\n",
        "    \n",
        "    return output, attention_weights\n"
      ],
      "metadata": {
        "id": "OftZxY7Tqc06"
      },
      "execution_count": 16,
      "outputs": []
    },
    {
      "cell_type": "code",
      "source": [
        "class Seq2Seq(nn.Module):\n",
        "  def __init__(self, encoder, decoder, src_pad_idx, trg_pad_idx, device):\n",
        "    super().__init__()\n",
        "\n",
        "    self.encoder = encoder\n",
        "    self.decoder = decoder\n",
        "    self.src_pad_idx = src_pad_idx\n",
        "    self.trg_pad_idx = trg_pad_idx\n",
        "    self.device = device\n",
        "\n",
        "  \n",
        "  def make_src_mask(self, src):\n",
        "    # src : (batch_size, src_len)\n",
        "    mask = (src != self.src_pad_idx).unsqueeze(1).unsqueeze(2)\n",
        "    return mask\n",
        "\n",
        "  \n",
        "  def make_trg_mask(self, trg):\n",
        "    # trg : (batch_size, trg_len)\n",
        "    \n",
        "    pad_mask = (trg != self.trg_pad_idx).unsqueeze(1).unsqueeze(2)\n",
        "    \n",
        "    trg_len = trg.size(1)\n",
        "    sub_mask = torch.tril(torch.ones((trg_len, trg_len), device = self.device)).bool()   # (trg_len, trg_len)\n",
        "\n",
        "    trg_mask = pad_mask & sub_mask   # (batch_size, 1, trg_len, trg_len)\n",
        "\n",
        "    return trg_mask\n",
        "\n",
        "  \n",
        "  def forward(self, src, trg):\n",
        "    src_mask = self.make_src_mask(src)\n",
        "    trg_mask = self.make_trg_mask(trg)\n",
        "\n",
        "    enc_src = self.encoder(src, src_mask)\n",
        "    output, attention_weights = self.decoder(trg, enc_src, trg_mask, src_mask)\n",
        "\n",
        "    # output : (batch_size, trg_len, vocab_size)\n",
        "    # attention_weights : (batch_size, n_heads, trg_len, src_len)\n",
        "\n",
        "    return output, attention_weights"
      ],
      "metadata": {
        "id": "5E9YvRFkxBj-"
      },
      "execution_count": 17,
      "outputs": []
    },
    {
      "cell_type": "markdown",
      "source": [
        "# 모델 훈련"
      ],
      "metadata": {
        "id": "cmY8s6IL3tLB"
      }
    },
    {
      "cell_type": "code",
      "source": [
        "# Hyper- parameters\n",
        "INPUT_DIM = len(SRC.vocab)\n",
        "OUTPUT_DIM = len(TRG.vocab)\n",
        "HIDDEN_DIM = 256\n",
        "ENC_LAYERS = 3   # 논문에서는 6개를 사용\n",
        "DEC_LAYERS = 3\n",
        "ENC_HEADS = 8\n",
        "DEC_HEADS = 8\n",
        "ENC_PF_DIM = 512   # 논문에서는 2048 dimension로 설정\n",
        "DEC_PF_DIM = 512\n",
        "DROPOUT_RATIO = 0.1"
      ],
      "metadata": {
        "id": "ssgd3meb3q3P"
      },
      "execution_count": 18,
      "outputs": []
    },
    {
      "cell_type": "code",
      "source": [
        "encoder = Encoder(INPUT_DIM, HIDDEN_DIM, ENC_LAYERS, ENC_HEADS, ENC_PF_DIM, DROPOUT_RATIO, device)\n",
        "decoder = Decoder(OUTPUT_DIM, HIDDEN_DIM, DEC_LAYERS, DEC_HEADS, DEC_PF_DIM, DROPOUT_RATIO, device)"
      ],
      "metadata": {
        "id": "95W1YCR74Q-5"
      },
      "execution_count": 19,
      "outputs": []
    },
    {
      "cell_type": "code",
      "source": [
        "SRC_PAD_IDX = SRC.vocab.stoi[SRC.pad_token]\n",
        "TRG_PAD_IDX = TRG.vocab.stoi[TRG.pad_token]\n",
        "\n",
        "model = Seq2Seq(encoder, decoder, SRC_PAD_IDX, TRG_PAD_IDX, device).to(device)"
      ],
      "metadata": {
        "id": "QgZEbYpT5Efh"
      },
      "execution_count": 20,
      "outputs": []
    },
    {
      "cell_type": "code",
      "source": [
        "# 모델의 전체 parameters 의 개수를 확인하는 함수 정의\n",
        "def count_parameters(model):\n",
        "  return sum(p.numel() for p in model.parameters() if p.requires_grad)\n",
        "\n",
        "print(f\"The model has {count_parameters(model):,} trainable parameters\") "
      ],
      "metadata": {
        "colab": {
          "base_uri": "https://localhost:8080/"
        },
        "id": "Wo3DK_ds4_or",
        "outputId": "738b1aec-7719-4f55-8f20-23e6e3110994"
      },
      "execution_count": 21,
      "outputs": [
        {
          "output_type": "stream",
          "name": "stdout",
          "text": [
            "The model has 9,038,853 trainable parameters\n"
          ]
        }
      ]
    },
    {
      "cell_type": "code",
      "source": [
        "# 모델의 parameters를 초기화\n",
        "def initialize_weights(model):\n",
        "  if hasattr(model, 'weight') and model.weight.dim() > 1:\n",
        "    nn.init.xavier_uniform_(model.weight.data)"
      ],
      "metadata": {
        "id": "I_U344r-5rio"
      },
      "execution_count": 22,
      "outputs": []
    },
    {
      "cell_type": "code",
      "source": [
        "model.apply(initialize_weights)"
      ],
      "metadata": {
        "id": "-_I-cIWw6JOK",
        "colab": {
          "base_uri": "https://localhost:8080/"
        },
        "outputId": "bacb1324-35d3-428f-f07d-3cdf4f4c7875"
      },
      "execution_count": 23,
      "outputs": [
        {
          "output_type": "execute_result",
          "data": {
            "text/plain": [
              "Seq2Seq(\n",
              "  (encoder): Encoder(\n",
              "    (tok_embedding): Embedding(7855, 256)\n",
              "    (pos_embedding): Embedding(100, 256)\n",
              "    (layers): ModuleList(\n",
              "      (0): EncoderLayer(\n",
              "        (MultiHeadAttentionlayer): MultiHeadAttention(\n",
              "          (fc_q): Linear(in_features=256, out_features=256, bias=True)\n",
              "          (fc_k): Linear(in_features=256, out_features=256, bias=True)\n",
              "          (fc_v): Linear(in_features=256, out_features=256, bias=True)\n",
              "          (fc_out): Linear(in_features=256, out_features=256, bias=True)\n",
              "          (dropout): Dropout(p=0.1, inplace=False)\n",
              "        )\n",
              "        (PositionwiseFeedForwardlayer): PositionwiseFeedForward(\n",
              "          (fc_1): Linear(in_features=256, out_features=512, bias=True)\n",
              "          (fc_2): Linear(in_features=512, out_features=256, bias=True)\n",
              "          (dropout): Dropout(p=0.1, inplace=False)\n",
              "        )\n",
              "        (ff_layer_norm): LayerNorm((256,), eps=1e-05, elementwise_affine=True)\n",
              "        (att_layer_norm): LayerNorm((256,), eps=1e-05, elementwise_affine=True)\n",
              "        (dropout): Dropout(p=0.1, inplace=False)\n",
              "      )\n",
              "      (1): EncoderLayer(\n",
              "        (MultiHeadAttentionlayer): MultiHeadAttention(\n",
              "          (fc_q): Linear(in_features=256, out_features=256, bias=True)\n",
              "          (fc_k): Linear(in_features=256, out_features=256, bias=True)\n",
              "          (fc_v): Linear(in_features=256, out_features=256, bias=True)\n",
              "          (fc_out): Linear(in_features=256, out_features=256, bias=True)\n",
              "          (dropout): Dropout(p=0.1, inplace=False)\n",
              "        )\n",
              "        (PositionwiseFeedForwardlayer): PositionwiseFeedForward(\n",
              "          (fc_1): Linear(in_features=256, out_features=512, bias=True)\n",
              "          (fc_2): Linear(in_features=512, out_features=256, bias=True)\n",
              "          (dropout): Dropout(p=0.1, inplace=False)\n",
              "        )\n",
              "        (ff_layer_norm): LayerNorm((256,), eps=1e-05, elementwise_affine=True)\n",
              "        (att_layer_norm): LayerNorm((256,), eps=1e-05, elementwise_affine=True)\n",
              "        (dropout): Dropout(p=0.1, inplace=False)\n",
              "      )\n",
              "      (2): EncoderLayer(\n",
              "        (MultiHeadAttentionlayer): MultiHeadAttention(\n",
              "          (fc_q): Linear(in_features=256, out_features=256, bias=True)\n",
              "          (fc_k): Linear(in_features=256, out_features=256, bias=True)\n",
              "          (fc_v): Linear(in_features=256, out_features=256, bias=True)\n",
              "          (fc_out): Linear(in_features=256, out_features=256, bias=True)\n",
              "          (dropout): Dropout(p=0.1, inplace=False)\n",
              "        )\n",
              "        (PositionwiseFeedForwardlayer): PositionwiseFeedForward(\n",
              "          (fc_1): Linear(in_features=256, out_features=512, bias=True)\n",
              "          (fc_2): Linear(in_features=512, out_features=256, bias=True)\n",
              "          (dropout): Dropout(p=0.1, inplace=False)\n",
              "        )\n",
              "        (ff_layer_norm): LayerNorm((256,), eps=1e-05, elementwise_affine=True)\n",
              "        (att_layer_norm): LayerNorm((256,), eps=1e-05, elementwise_affine=True)\n",
              "        (dropout): Dropout(p=0.1, inplace=False)\n",
              "      )\n",
              "    )\n",
              "    (dropout): Dropout(p=0.1, inplace=False)\n",
              "  )\n",
              "  (decoder): Decoder(\n",
              "    (tok_embedding): Embedding(5893, 256)\n",
              "    (pos_embedding): Embedding(100, 256)\n",
              "    (layers): ModuleList(\n",
              "      (0): DecoderLayer(\n",
              "        (self_attention): MultiHeadAttention(\n",
              "          (fc_q): Linear(in_features=256, out_features=256, bias=True)\n",
              "          (fc_k): Linear(in_features=256, out_features=256, bias=True)\n",
              "          (fc_v): Linear(in_features=256, out_features=256, bias=True)\n",
              "          (fc_out): Linear(in_features=256, out_features=256, bias=True)\n",
              "          (dropout): Dropout(p=0.1, inplace=False)\n",
              "        )\n",
              "        (self_attn_layer_norm): LayerNorm((256,), eps=1e-05, elementwise_affine=True)\n",
              "        (enc_attention): MultiHeadAttention(\n",
              "          (fc_q): Linear(in_features=256, out_features=256, bias=True)\n",
              "          (fc_k): Linear(in_features=256, out_features=256, bias=True)\n",
              "          (fc_v): Linear(in_features=256, out_features=256, bias=True)\n",
              "          (fc_out): Linear(in_features=256, out_features=256, bias=True)\n",
              "          (dropout): Dropout(p=0.1, inplace=False)\n",
              "        )\n",
              "        (enc_attn_layer_norm): LayerNorm((256,), eps=1e-05, elementwise_affine=True)\n",
              "        (ff_layer): PositionwiseFeedForward(\n",
              "          (fc_1): Linear(in_features=256, out_features=512, bias=True)\n",
              "          (fc_2): Linear(in_features=512, out_features=256, bias=True)\n",
              "          (dropout): Dropout(p=0.1, inplace=False)\n",
              "        )\n",
              "        (ff_layer_norm): LayerNorm((256,), eps=1e-05, elementwise_affine=True)\n",
              "        (dropout): Dropout(p=0.1, inplace=False)\n",
              "      )\n",
              "      (1): DecoderLayer(\n",
              "        (self_attention): MultiHeadAttention(\n",
              "          (fc_q): Linear(in_features=256, out_features=256, bias=True)\n",
              "          (fc_k): Linear(in_features=256, out_features=256, bias=True)\n",
              "          (fc_v): Linear(in_features=256, out_features=256, bias=True)\n",
              "          (fc_out): Linear(in_features=256, out_features=256, bias=True)\n",
              "          (dropout): Dropout(p=0.1, inplace=False)\n",
              "        )\n",
              "        (self_attn_layer_norm): LayerNorm((256,), eps=1e-05, elementwise_affine=True)\n",
              "        (enc_attention): MultiHeadAttention(\n",
              "          (fc_q): Linear(in_features=256, out_features=256, bias=True)\n",
              "          (fc_k): Linear(in_features=256, out_features=256, bias=True)\n",
              "          (fc_v): Linear(in_features=256, out_features=256, bias=True)\n",
              "          (fc_out): Linear(in_features=256, out_features=256, bias=True)\n",
              "          (dropout): Dropout(p=0.1, inplace=False)\n",
              "        )\n",
              "        (enc_attn_layer_norm): LayerNorm((256,), eps=1e-05, elementwise_affine=True)\n",
              "        (ff_layer): PositionwiseFeedForward(\n",
              "          (fc_1): Linear(in_features=256, out_features=512, bias=True)\n",
              "          (fc_2): Linear(in_features=512, out_features=256, bias=True)\n",
              "          (dropout): Dropout(p=0.1, inplace=False)\n",
              "        )\n",
              "        (ff_layer_norm): LayerNorm((256,), eps=1e-05, elementwise_affine=True)\n",
              "        (dropout): Dropout(p=0.1, inplace=False)\n",
              "      )\n",
              "      (2): DecoderLayer(\n",
              "        (self_attention): MultiHeadAttention(\n",
              "          (fc_q): Linear(in_features=256, out_features=256, bias=True)\n",
              "          (fc_k): Linear(in_features=256, out_features=256, bias=True)\n",
              "          (fc_v): Linear(in_features=256, out_features=256, bias=True)\n",
              "          (fc_out): Linear(in_features=256, out_features=256, bias=True)\n",
              "          (dropout): Dropout(p=0.1, inplace=False)\n",
              "        )\n",
              "        (self_attn_layer_norm): LayerNorm((256,), eps=1e-05, elementwise_affine=True)\n",
              "        (enc_attention): MultiHeadAttention(\n",
              "          (fc_q): Linear(in_features=256, out_features=256, bias=True)\n",
              "          (fc_k): Linear(in_features=256, out_features=256, bias=True)\n",
              "          (fc_v): Linear(in_features=256, out_features=256, bias=True)\n",
              "          (fc_out): Linear(in_features=256, out_features=256, bias=True)\n",
              "          (dropout): Dropout(p=0.1, inplace=False)\n",
              "        )\n",
              "        (enc_attn_layer_norm): LayerNorm((256,), eps=1e-05, elementwise_affine=True)\n",
              "        (ff_layer): PositionwiseFeedForward(\n",
              "          (fc_1): Linear(in_features=256, out_features=512, bias=True)\n",
              "          (fc_2): Linear(in_features=512, out_features=256, bias=True)\n",
              "          (dropout): Dropout(p=0.1, inplace=False)\n",
              "        )\n",
              "        (ff_layer_norm): LayerNorm((256,), eps=1e-05, elementwise_affine=True)\n",
              "        (dropout): Dropout(p=0.1, inplace=False)\n",
              "      )\n",
              "    )\n",
              "    (fc_out): Linear(in_features=256, out_features=5893, bias=True)\n",
              "    (dropout): Dropout(p=0.1, inplace=False)\n",
              "  )\n",
              ")"
            ]
          },
          "metadata": {},
          "execution_count": 23
        }
      ]
    },
    {
      "cell_type": "code",
      "source": [
        "LEARNING_RATE = 0.0006\n",
        "\n",
        "# Loss and optimizer\n",
        "criterion = nn.CrossEntropyLoss(ignore_index = TRG_PAD_IDX)\n",
        "optimizer = torch.optim.Adam(model.parameters(), lr = LEARNING_RATE)"
      ],
      "metadata": {
        "id": "oPnEZGAb6MT9"
      },
      "execution_count": 24,
      "outputs": []
    },
    {
      "cell_type": "code",
      "source": [
        "def train(model, iterator, optimizer, criterion, clip):\n",
        "\n",
        "  model.train()\n",
        "\n",
        "  epoch_loss = 0\n",
        "\n",
        "  for i, batch in enumerate(iterator):\n",
        "\n",
        "    src = batch.src.permute(1, 0)\n",
        "    trg = batch.trg.permute(1, 0)\n",
        "\n",
        "    optimizer.zero_grad()\n",
        "    \n",
        "    # <eos> 토큰을 없애주고 모델의 인풋으로 넣어준다\n",
        "    output, _ = model(src, trg[:, :-1])   # (batch_size, trg_len - 1, output_dim)   \n",
        "\n",
        "    output = output.contiguous().view(-1, output.size(-1))\n",
        "    trg = trg[:, 1:].contiguous().view(-1)\n",
        "\n",
        "    loss = criterion(output, trg)\n",
        "    loss.backward()\n",
        "\n",
        "    torch.nn.utils.clip_grad_norm_(model.parameters(), clip)\n",
        "\n",
        "    optimizer.step()\n",
        "\n",
        "    epoch_loss += loss.item()\n",
        "\n",
        "  return epoch_loss / len(iterator)\n"
      ],
      "metadata": {
        "id": "NbEwBeEG7KKh"
      },
      "execution_count": 25,
      "outputs": []
    },
    {
      "cell_type": "code",
      "source": [
        "# evaluation loop는 gradient 계산을 하지 않는다는 것을 제외하곤 train fn과 같다\n",
        "def evaluate(model, iterator, criterion):\n",
        "\n",
        "  model.eval()\n",
        "\n",
        "  epoch_loss = 0\n",
        "\n",
        "  with torch.no_grad():\n",
        "\n",
        "    for i, batch in enumerate(iterator):\n",
        "\n",
        "      src = batch.src.permute(1, 0)\n",
        "      trg = batch.trg.permute(1, 0)\n",
        "\n",
        "      output, _ = model(src, trg[:, :-1])\n",
        "\n",
        "      output = output.contiguous().view(-1, output.size(-1))\n",
        "      trg = trg[:, 1:].contiguous().view(-1)\n",
        "\n",
        "      loss = criterion(output, trg)\n",
        "\n",
        "      epoch_loss += loss\n",
        "\n",
        "  return epoch_loss / len(iterator)"
      ],
      "metadata": {
        "id": "RCsLbIPO-L4l"
      },
      "execution_count": 26,
      "outputs": []
    },
    {
      "cell_type": "code",
      "source": [
        "def epoch_time(start_time, end_time):\n",
        "    elapsed_time = end_time - start_time\n",
        "    elapsed_mins = int(elapsed_time / 60)\n",
        "    elapsed_secs = int(elapsed_time - (elapsed_mins * 60))\n",
        "    return elapsed_mins, elapsed_secs"
      ],
      "metadata": {
        "id": "6EJuvKlR_Sd_"
      },
      "execution_count": 27,
      "outputs": []
    },
    {
      "cell_type": "code",
      "source": [
        "N_EPOCHS = 15\n",
        "CLIP = 1\n",
        "\n",
        "best_valid_loss = float(\"inf\")\n",
        "\n",
        "\n",
        "for epoch in range(N_EPOCHS):\n",
        "  start_time = time.time()\n",
        "\n",
        "  train_loss = train(model, trainloader, optimizer, criterion, CLIP)\n",
        "  valid_loss = evaluate(model, validloader, criterion)\n",
        "\n",
        "  end_time = time.time()\n",
        "\n",
        "  epoch_mins, epoch_secs = epoch_time(start_time, end_time)\n",
        "\n",
        "  if valid_loss < best_valid_loss:\n",
        "    best_valid_loss = valid_loss\n",
        "    torch.save(model.state_dict(), 'transformer-model.ckpt')\n",
        "  \n",
        "  print(f\"Epoch : {epoch + 1:02} | Time {epoch_mins}m {epoch_secs}s\")\n",
        "  print(f\"\\t Trian Loss : {train_loss:.3f} | Train PPL : {math.exp(train_loss):7.3f}\")\n",
        "  print(f\"\\t Val   Loss : {valid_loss:.3f} | Val   PPL : {math.exp(valid_loss):7.3f}\")"
      ],
      "metadata": {
        "colab": {
          "base_uri": "https://localhost:8080/"
        },
        "id": "-GU0N4_d_xQv",
        "outputId": "b922958b-b29b-4c12-d173-c396a2a7a6b3"
      },
      "execution_count": 28,
      "outputs": [
        {
          "output_type": "stream",
          "name": "stdout",
          "text": [
            "Epoch : 01 | Time 0m 15s\n",
            "\t Trian Loss : 4.342 | Train PPL :  76.835\n",
            "\t Val   Loss : 3.469 | Val   PPL :  32.114\n",
            "Epoch : 02 | Time 0m 15s\n",
            "\t Trian Loss : 3.434 | Train PPL :  31.003\n",
            "\t Val   Loss : 3.215 | Val   PPL :  24.904\n",
            "Epoch : 03 | Time 0m 17s\n",
            "\t Trian Loss : 3.174 | Train PPL :  23.896\n",
            "\t Val   Loss : 3.055 | Val   PPL :  21.219\n",
            "Epoch : 04 | Time 0m 15s\n",
            "\t Trian Loss : 2.953 | Train PPL :  19.164\n",
            "\t Val   Loss : 2.939 | Val   PPL :  18.891\n",
            "Epoch : 05 | Time 0m 17s\n",
            "\t Trian Loss : 2.770 | Train PPL :  15.953\n",
            "\t Val   Loss : 2.845 | Val   PPL :  17.203\n",
            "Epoch : 06 | Time 0m 15s\n",
            "\t Trian Loss : 2.611 | Train PPL :  13.612\n",
            "\t Val   Loss : 2.798 | Val   PPL :  16.419\n",
            "Epoch : 07 | Time 0m 15s\n",
            "\t Trian Loss : 2.460 | Train PPL :  11.703\n",
            "\t Val   Loss : 2.708 | Val   PPL :  15.004\n",
            "Epoch : 08 | Time 0m 14s\n",
            "\t Trian Loss : 2.298 | Train PPL :   9.957\n",
            "\t Val   Loss : 2.621 | Val   PPL :  13.745\n",
            "Epoch : 09 | Time 0m 15s\n",
            "\t Trian Loss : 2.142 | Train PPL :   8.521\n",
            "\t Val   Loss : 2.562 | Val   PPL :  12.960\n",
            "Epoch : 10 | Time 0m 15s\n",
            "\t Trian Loss : 1.997 | Train PPL :   7.364\n",
            "\t Val   Loss : 2.485 | Val   PPL :  11.999\n",
            "Epoch : 11 | Time 0m 15s\n",
            "\t Trian Loss : 1.857 | Train PPL :   6.407\n",
            "\t Val   Loss : 2.462 | Val   PPL :  11.734\n",
            "Epoch : 12 | Time 0m 14s\n",
            "\t Trian Loss : 1.731 | Train PPL :   5.648\n",
            "\t Val   Loss : 2.415 | Val   PPL :  11.185\n",
            "Epoch : 13 | Time 0m 14s\n",
            "\t Trian Loss : 1.610 | Train PPL :   5.004\n",
            "\t Val   Loss : 2.388 | Val   PPL :  10.891\n",
            "Epoch : 14 | Time 0m 14s\n",
            "\t Trian Loss : 1.498 | Train PPL :   4.473\n",
            "\t Val   Loss : 2.371 | Val   PPL :  10.706\n",
            "Epoch : 15 | Time 0m 14s\n",
            "\t Trian Loss : 1.395 | Train PPL :   4.036\n",
            "\t Val   Loss : 2.345 | Val   PPL :  10.431\n"
          ]
        }
      ]
    },
    {
      "cell_type": "code",
      "source": [
        "model.load_state_dict(torch.load('transformer-model.ckpt'))\n",
        "\n",
        "test_loss = evaluate(model, testloader, criterion)\n",
        "\n",
        "print(f\"| Test Loss : {test_loss:.3f} | Test PPL : {math.exp(test_loss):7.3f} |\")"
      ],
      "metadata": {
        "colab": {
          "base_uri": "https://localhost:8080/"
        },
        "id": "bRh121UkEAdc",
        "outputId": "36f6c1fc-6198-46fe-d00a-c42b47bad617"
      },
      "execution_count": 29,
      "outputs": [
        {
          "output_type": "stream",
          "name": "stdout",
          "text": [
            "| Test Loss : 2.338 | Test PPL :  10.359 |\n"
          ]
        }
      ]
    },
    {
      "cell_type": "markdown",
      "source": [
        "# Inference\n",
        "\n",
        "* 실제 번역해보고 attention weights 시각화"
      ],
      "metadata": {
        "id": "AQqDTVcZQ9sM"
      }
    },
    {
      "cell_type": "code",
      "source": [
        "def translate_sentence(sentence, src_field, trg_field, model, device, max_len = 50):\n",
        "\n",
        "  model.eval()\n",
        "\n",
        "  if isinstance(sentence, str):\n",
        "    nlp = spacy.load('de_core_news_sm')\n",
        "    tokens = [token.text.lower() for token in nlp(sentence)]\n",
        "  else:\n",
        "    tokens = [token.lower() for token in sentence]\n",
        "  \n",
        "  tokens = [src_field.init_token] + tokens + [src_field.eos_token]\n",
        "  tokens = [src_field.vocab.stoi[token] for token in tokens]\n",
        "  \n",
        "  src_tensor = torch.LongTensor(tokens).unsqueeze(0).to(device)\n",
        "  src_mask = model.make_src_mask(src_tensor)\n",
        "\n",
        "  with torch.no_grad():\n",
        "    enc_src = model.encoder(src_tensor, src_mask)\n",
        "  \n",
        "  trg_indexes = [trg_field.vocab.stoi[trg_field.init_token]]\n",
        "\n",
        "  for i in range(max_len):\n",
        "    trg_tensor = torch.LongTensor(trg_indexes).unsqueeze(0).to(device)\n",
        "\n",
        "    trg_mask = model.make_trg_mask(trg_tensor)\n",
        "\n",
        "    with torch.no_grad():\n",
        "      output, attention_weights = model.decoder(trg_tensor, enc_src, trg_mask, src_mask)\n",
        "    \n",
        "    pred_token = output.argmax(2)[:, -1].item()\n",
        "    trg_indexes.append(pred_token)\n",
        "\n",
        "    if pred_token == trg_field.vocab.stoi[trg_field.eos_token]:\n",
        "      break\n",
        "  \n",
        "  trg_tokens = [trg_field.vocab.itos[token] for token in trg_indexes]\n",
        "\n",
        "  return trg_tokens[1:], attention_weights\n",
        "\n"
      ],
      "metadata": {
        "id": "Zh44LbAUFKc4"
      },
      "execution_count": 39,
      "outputs": []
    },
    {
      "cell_type": "code",
      "source": [
        "import matplotlib.pyplot as plt\n",
        "import matplotlib.ticker as ticker\n",
        "\n",
        "def display_attention(sentence, translation, attention, n_heads = 8, n_rows = 4, n_cols = 2):\n",
        "    \n",
        "    assert n_rows * n_cols == n_heads\n",
        "    \n",
        "    fig = plt.figure(figsize=(15,25))\n",
        "    \n",
        "    for i in range(n_heads):\n",
        "        \n",
        "        ax = fig.add_subplot(n_rows, n_cols, i+1)\n",
        "        \n",
        "        _attention = attention.squeeze(0)[i].cpu().detach().numpy()\n",
        "\n",
        "        cax = ax.matshow(_attention, cmap='bone')\n",
        "\n",
        "        ax.tick_params(labelsize=12)\n",
        "        ax.set_xticklabels(['']+['<sos>']+[t.lower() for t in sentence]+['<eos>'], \n",
        "                           rotation=45)\n",
        "        ax.set_yticklabels(['']+translation)\n",
        "\n",
        "        ax.xaxis.set_major_locator(ticker.MultipleLocator(1))\n",
        "        ax.yaxis.set_major_locator(ticker.MultipleLocator(1))\n",
        "\n",
        "    plt.show()\n",
        "    plt.close()"
      ],
      "metadata": {
        "id": "urQowSItVJZ8"
      },
      "execution_count": 36,
      "outputs": []
    },
    {
      "cell_type": "code",
      "source": [
        "# 예시 1\n",
        "example_idx = 8\n",
        "\n",
        "src = vars(train_dataset.examples[example_idx])['src']\n",
        "trg = vars(train_dataset.examples[example_idx])['trg']\n",
        "\n",
        "print(f'src = {src}')\n",
        "print(f'trg = {trg}')"
      ],
      "metadata": {
        "colab": {
          "base_uri": "https://localhost:8080/"
        },
        "id": "jU9Mc9HLVl4n",
        "outputId": "4b06116d-cca5-4ce4-dc3e-3e9a46be712c"
      },
      "execution_count": 37,
      "outputs": [
        {
          "output_type": "stream",
          "name": "stdout",
          "text": [
            "src = ['eine', 'frau', 'mit', 'einer', 'großen', 'geldbörse', 'geht', 'an', 'einem', 'tor', 'vorbei', '.']\n",
            "trg = ['a', 'woman', 'with', 'a', 'large', 'purse', 'is', 'walking', 'by', 'a', 'gate', '.']\n"
          ]
        }
      ]
    },
    {
      "cell_type": "code",
      "source": [
        "translation, attention = translate_sentence(src, SRC, TRG, model, device)\n",
        "\n",
        "print(f'predicted trg = {translation}')"
      ],
      "metadata": {
        "colab": {
          "base_uri": "https://localhost:8080/"
        },
        "id": "spIkwr4PWUJ5",
        "outputId": "42b1f470-dfe7-429c-b4eb-5edfa754b567"
      },
      "execution_count": 40,
      "outputs": [
        {
          "output_type": "stream",
          "name": "stdout",
          "text": [
            "predicted trg = ['a', 'woman', 'with', 'a', 'large', 'purse', 'is', 'walking', 'by', 'a', 'parking', 'lot', '.', '<eos>']\n"
          ]
        }
      ]
    },
    {
      "cell_type": "markdown",
      "source": [
        "**서로 다른 head마다 조금 다른 어텐션 양상을 보이는 것을 확인할 수 있다 -> MultiHeadAttention의 장점**"
      ],
      "metadata": {
        "id": "Z__-epI3XDB7"
      }
    },
    {
      "cell_type": "code",
      "source": [
        "display_attention(src, translation, attention)"
      ],
      "metadata": {
        "colab": {
          "base_uri": "https://localhost:8080/",
          "height": 1000
        },
        "id": "TtWShH2CWZeq",
        "outputId": "b0e04c72-ecf4-414e-b8dd-8de7899bc32e"
      },
      "execution_count": 41,
      "outputs": [
        {
          "output_type": "display_data",
          "data": {
            "image/png": "[encoded data removed]",
            "text/plain": [
              "<Figure size 1080x1800 with 8 Axes>"
            ]
          },
          "metadata": {
            "needs_background": "light"
          }
        }
      ]
    },
    {
      "cell_type": "code",
      "source": [
        "# 예시 2\n",
        "example_idx = 10\n",
        "\n",
        "src = vars(test_dataset.examples[example_idx])['src']\n",
        "trg = vars(test_dataset.examples[example_idx])['trg']\n",
        "\n",
        "print(f\"src = {src}\")\n",
        "print(f\"trg = {trg}\")"
      ],
      "metadata": {
        "colab": {
          "base_uri": "https://localhost:8080/"
        },
        "id": "uCPNXfk0Wo6O",
        "outputId": "00a18cc7-0ad2-4f42-ff32-6159670cbb8e"
      },
      "execution_count": 42,
      "outputs": [
        {
          "output_type": "stream",
          "name": "stdout",
          "text": [
            "src = ['eine', 'mutter', 'und', 'ihr', 'kleiner', 'sohn', 'genießen', 'einen', 'schönen', 'tag', 'im', 'freien', '.']\n",
            "trg = ['a', 'mother', 'and', 'her', 'young', 'song', 'enjoying', 'a', 'beautiful', 'day', 'outside', '.']\n"
          ]
        }
      ]
    },
    {
      "cell_type": "code",
      "source": [
        "translation, attention = translate_sentence(src, SRC, TRG, model, device)\n",
        "\n",
        "print(f\"predicted trg = {translation}\")"
      ],
      "metadata": {
        "colab": {
          "base_uri": "https://localhost:8080/"
        },
        "id": "HuYPZfOYYAIA",
        "outputId": "8d9ebacb-74aa-483a-d612-b6c4018c1436"
      },
      "execution_count": 43,
      "outputs": [
        {
          "output_type": "stream",
          "name": "stdout",
          "text": [
            "predicted trg = ['a', 'mother', 'and', 'her', 'daughter', 'are', 'getting', 'her', 'haircut', 'at', 'a', 'small', 'square', '.', '<eos>']\n"
          ]
        }
      ]
    },
    {
      "cell_type": "code",
      "source": [
        "display_attention(src, translation, attention)"
      ],
      "metadata": {
        "colab": {
          "base_uri": "https://localhost:8080/",
          "height": 1000
        },
        "id": "Ayr328s0YL8-",
        "outputId": "b6e6059b-7cc8-4b9a-c326-50d0e95ad1e6"
      },
      "execution_count": 44,
      "outputs": [
        {
          "output_type": "display_data",
          "data": {
            "image/png": "[encoded data removed]",
            "text/plain": [
              "<Figure size 1080x1800 with 8 Axes>"
            ]
          },
          "metadata": {
            "needs_background": "light"
          }
        }
      ]
    }
  ]
}